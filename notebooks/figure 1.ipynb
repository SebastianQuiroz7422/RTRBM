{
 "cells": [
  {
   "cell_type": "markdown",
   "source": [
    "# Figure 1\n",
    "\n",
    "imports"
   ],
   "metadata": {
    "collapsed": false,
    "pycharm": {
     "name": "#%% md\n"
    }
   },
   "outputs": [],
   "execution_count": 1
  },
  {
   "cell_type": "code",
   "execution_count": 1,
   "metadata": {
    "collapsed": true
   },
   "outputs": [],
   "source": [
    "import matplotlib.pyplot as plt\n",
    "import os\n",
    "import torch\n",
    "from utils.funcs import *\n",
    "os.chdir(r'/')\n",
    "\n",
    "from boltzmann_machines.RBM import RBM\n",
    "from boltzmann_machines.RTRBM import RTRBM\n"
   ]
  },
  {
   "cell_type": "code",
   "execution_count": 2,
   "outputs": [
    {
     "data": {
      "text/plain": "tensor([[ 0., -1.,  1.],\n        [ 1.,  0., -1.],\n        [-1.,  1.,  0.]])"
     },
     "execution_count": 2,
     "metadata": {},
     "output_type": "execute_result"
    }
   ],
   "source": [
    "create_U_hat(3)"
   ],
   "metadata": {
    "collapsed": false,
    "pycharm": {
     "name": "#%%\n"
    }
   }
  },
  {
   "cell_type": "code",
   "execution_count": 16,
   "outputs": [
    {
     "name": "stderr",
     "output_type": "stream",
     "text": [
      "100%|██████████| 31/31 [00:00<00:00, 87.43it/s]\n",
      "100%|██████████| 30/30 [00:00<00:00, 58.40it/s]\n"
     ]
    },
    {
     "data": {
      "text/plain": "<Figure size 669.291x314.961 with 9 Axes>",
      "image/png": "[encoded data removed]"
     },
     "metadata": {},
     "output_type": "display_data"
    }
   ],
   "source": [
    "def create_machines():\n",
    "\n",
    "    n_h, n_v, T = 3, 11, 30\n",
    "\n",
    "    W = torch.tensor([\n",
    "        [1, 1, 1, 1, 0, 0, 0, 0, 0, 0, 0],\n",
    "        [0, 0, 0, 0, 1, 1, 1, 1, 0, 0, 0],\n",
    "        [0, 0, 0, 0, 0, 0, 0, 0, 1.2, 1.2, 1.2],\n",
    "    ], dtype=torch.float)\n",
    "\n",
    "    U = torch.tensor([\n",
    "        [-1, 1, -1],\n",
    "        [-1, -1, 1],\n",
    "        [1, -1, -1],\n",
    "    ], dtype=torch.float)\n",
    "\n",
    "    W[W == 0] = -1\n",
    "    W *= 3\n",
    "    U *= 3\n",
    "    data = torch.zeros(n_v, T, 10)\n",
    "    rbm = RBM(data, n_hidden=n_h, device='cpu', debug_mode=True)\n",
    "    rtrbm = RTRBM(data, n_hidden=n_h, device='cpu', debug_mode=True)\n",
    "\n",
    "    rbm.W = W + .5 * torch.randn(n_h, n_v)\n",
    "    rtrbm.W = W + .5 * torch.randn(n_h, n_v)\n",
    "    rtrbm.U = U + .5 * torch.randn(n_h, n_h)\n",
    "    return rbm, rtrbm\n",
    "\n",
    "\n",
    "# create data\n",
    "rbm, rtrbm = create_machines()\n",
    "v = (torch.rand(rbm.n_visible) < .5).T.type(torch.float)\n",
    "vs_rbm, hs_rbm = rbm.sample(v_start=v[:, None], pre_gibbs_k=0, gibbs_k=100, chain=30)\n",
    "vs_rtrbm, hs_rtrbm = rtrbm.sample(v_start=v[:, None], pre_gibbs_k=0, gibbs_k=100, chain=rtrbm.T)\n",
    "\n",
    "# create figure and grid-spec\n",
    "fig = plt.figure(figsize=(6.692913379, 3.149606296))\n",
    "gs = fig.add_gridspec(nrows=7, ncols=11, hspace=0.1, wspace=0.1, left=0.02, right=0.98, top=0.95, bottom=0.05)\n",
    "fs = 8\n",
    "\n",
    "# create all axes (save space for illustrations)\n",
    "W_rbm = fig.add_subplot(gs[2, 4:6])\n",
    "rbm_cbar = fig.add_subplot(gs[2, 6])\n",
    "W_rtrbm = fig.add_subplot(gs[6, 4:6])\n",
    "U_rtrbm = fig.add_subplot(gs[6, 6])\n",
    "rtrbm_cbar = fig.add_subplot(gs[6, 7])\n",
    "h_rbm = fig.add_subplot(gs[0, 8:])\n",
    "v_rbm = fig.add_subplot(gs[1:3, 8:])\n",
    "h_rtrbm = fig.add_subplot(gs[4, 8:])\n",
    "v_rtrbm = fig.add_subplot(gs[5:, 8:])\n",
    "axes = [W_rbm, rbm_cbar, W_rtrbm, U_rtrbm, rtrbm_cbar, h_rbm, v_rbm, h_rtrbm, v_rtrbm]\n",
    "\n",
    "# turn off all axes ticks\n",
    "for ax in axes:\n",
    "    ax.set_xticks([])\n",
    "    ax.set_yticks([])\n",
    "\n",
    "# visible-hidden weights rbm\n",
    "pc = W_rbm.imshow(rbm.W, cmap=plt.get_cmap('bwr'), aspect='equal')\n",
    "pos = W_rbm.get_position()\n",
    "new_pos = [pos.x0 - .07, pos.y0 - .01, pos.width + .1, pos.height + .02]\n",
    "W_rbm.set_position(new_pos)\n",
    "\n",
    "# visible-hidden weights rtrbm\n",
    "W_rtrbm.imshow(rtrbm.W, cmap=plt.get_cmap('bwr'), aspect='equal')\n",
    "pos = W_rtrbm.get_position()\n",
    "new_pos = [pos.x0 - .07, pos.y0 - .01, pos.width + .1, pos.height + .02]\n",
    "W_rtrbm.set_position(new_pos)\n",
    "\n",
    "# hidden-hidden weights rtrbm\n",
    "U_rtrbm.imshow(rtrbm.U, cmap=plt.get_cmap('bwr'), aspect='equal')\n",
    "pos = U_rtrbm.get_position()\n",
    "new_pos = [pos.x0 - .012, pos.y0, pos.width, pos.height]\n",
    "U_rtrbm.set_position(new_pos)\n",
    "\n",
    "# rbm weights colorbar\n",
    "pos = rbm_cbar.get_position()\n",
    "new_pos = [pos.x0, pos.y0, pos.width / 8, pos.height]\n",
    "rbm_cbar.set_position(new_pos)\n",
    "cb = fig.colorbar(pc, rbm_cbar, orientation='vertical')\n",
    "cb.set_ticks([-2, 2])\n",
    "cb.set_label('Weight', fontsize=fs)\n",
    "rbm_cbar.tick_params(labelsize=fs)\n",
    "cb.outline.set_linewidth(.5)\n",
    "\n",
    "# rtrbm weights colorbar\n",
    "pos = rtrbm_cbar.get_position()\n",
    "new_pos = [pos.x0 - .024, pos.y0, pos.width / 8, pos.height]\n",
    "rtrbm_cbar.set_position(new_pos)\n",
    "cb = fig.colorbar(pc, rtrbm_cbar, orientation='vertical')\n",
    "cb.set_label('Weight', fontsize=fs)\n",
    "cb.set_ticks([-2, 2])\n",
    "rtrbm_cbar.tick_params(labelsize=fs)\n",
    "cb.outline.set_linewidth(.5)\n",
    "\n",
    "# activities rbm\n",
    "h_rbm.imshow(hs_rbm, cmap=plt.get_cmap('binary'), aspect='auto')\n",
    "v_rbm.imshow(vs_rbm, cmap=plt.get_cmap('binary'), aspect='auto')\n",
    "\n",
    "# activities rtrbm\n",
    "h_rtrbm.imshow(hs_rtrbm, cmap=plt.get_cmap('binary'), aspect='auto')\n",
    "v_rtrbm.imshow(vs_rtrbm, cmap=plt.get_cmap('binary'), aspect='auto')\n",
    "\n",
    "plt.show()"
   ],
   "metadata": {
    "collapsed": false,
    "pycharm": {
     "name": "#%%\n"
    }
   }
  }
 ],
 "metadata": {
  "kernelspec": {
   "display_name": "Python 3",
   "language": "python",
   "name": "python3"
  },
  "language_info": {
   "codemirror_mode": {
    "name": "ipython",
    "version": 2
   },
   "file_extension": ".py",
   "mimetype": "text/x-python",
   "name": "python",
   "nbconvert_exporter": "python",
   "pygments_lexer": "ipython2",
   "version": "2.7.6"
  }
 },
 "nbformat": 4,
 "nbformat_minor": 0
}